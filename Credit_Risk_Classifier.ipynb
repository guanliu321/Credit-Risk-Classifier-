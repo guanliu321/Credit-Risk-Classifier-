{
  "nbformat": 4,
  "nbformat_minor": 0,
  "metadata": {
    "kernelspec": {
      "display_name": "Python 3",
      "language": "python",
      "name": "python3"
    },
    "language_info": {
      "codemirror_mode": {
        "name": "ipython",
        "version": 3
      },
      "file_extension": ".py",
      "mimetype": "text/x-python",
      "name": "python",
      "nbconvert_exporter": "python",
      "pygments_lexer": "ipython3",
      "version": "3.6.3"
    },
    "colab": {
      "name": "Credit Risk Classifier.ipynb",
      "provenance": [],
      "collapsed_sections": [
        "DI_tletLDNSY",
        "OgMYee_EDNSY",
        "XZ60YX9fDNSY",
        "9lc8XvN_DNSY",
        "VF2_YUdVDNSZ"
      ]
    }
  },
  "cells": [
    {
      "cell_type": "markdown",
      "metadata": {
        "id": "mjNr5UcdDNSU"
      },
      "source": [
        "# Credit Risk Classifier"
      ]
    },
    {
      "cell_type": "markdown",
      "metadata": {
        "id": "AUMw2zljDNSU"
      },
      "source": [
        "It is a Credit Risk assessment project performed on a dataset with more than 200,000 records,which helps the bank to evaluate if a loan applicant can be a defaulter at a later stage so that they can go ahead and grant the loan or not."
      ]
    },
    {
      "cell_type": "markdown",
      "metadata": {
        "id": "NIwvWFr7DNSU"
      },
      "source": [
        "#### Table of Contents:\n",
        "Description\n",
        "\n",
        "Credit Risk Classifier\n",
        "\n",
        "Import Libraries\n",
        "\n",
        "Getting the Data\n",
        "\n",
        "Data Exploration/Analysis\n",
        "    \n",
        "        Feature Information\n",
        "        \n",
        "        Feature Description\n",
        "       \n",
        "        Feature Importance\n",
        "        \n",
        "        Analyzed Missing values\n",
        "\n",
        "Data Visualization\n",
        "\n",
        "    Tabular View\n",
        "\n",
        "    Histogram\n",
        "    \n",
        "    Scatterplot\n",
        "    \n",
        "    Area plot\n",
        "\n",
        "Feature Engineering\n",
        "\n",
        "    Analyzed Categorical Values\n",
        "    \n",
        "    Analyzed Combining related features\n",
        "\n",
        "Data Preprocessing\n",
        "\n",
        "    Missing Data Manipulation\n",
        "\n",
        "    Analyzing Categories\n",
        "    \n",
        "    Combining related features\n",
        "    \n",
        "Normal Cross Validation\n",
        "\n",
        "    Split data to train and test sets\n",
        "    \n",
        "Building Machine Learning Models\n",
        "\n",
        "    Training different learning models\n",
        "    \n",
        "    Calculating Accuracy\n",
        "    \n",
        "Which is the best model ?\n",
        "\n",
        "    Decision Tree\n",
        "        OR\n",
        "    Random Forest\n",
        "    \n",
        "Evaluation\n",
        "     \n",
        "    F1 score\n",
        "    \n",
        "    Confusion Matrix\n",
        "    \n",
        "    Precision and Recall\n",
        "    \n",
        "Further Evaluation\n",
        "\n",
        "    K-Fold Cross Validation\n",
        "    \n",
        "    ROC-AUC Score\n",
        "\n",
        "Ensemble Method\n",
        "\n",
        "    ADA Boost Classifier\n",
        "    \n",
        "    Gradient Boosting Classifier\n",
        "    \n",
        "Retrieve classified Values\n",
        "\n",
        "    Append a column to the existing dataframe\n",
        "    \n",
        "    Save to csv or pdf\n",
        "    \n",
        "Summary"
      ]
    },
    {
      "cell_type": "markdown",
      "metadata": {
        "id": "iaZZklzLDNSU"
      },
      "source": [
        "#### Description\n",
        "--------------------------------------------------------------------------------------------------------------------------\n",
        "For new loan applications, a financial institution wants to estimate the risk of customers defaulting on a loan and/or being \n",
        "significantly past due on a loan payment in the next two years."
      ]
    },
    {
      "cell_type": "markdown",
      "metadata": {
        "id": "4t23MoG6DNSU"
      },
      "source": [
        "#### Why we need a pre qualification check in loan lending process?\n",
        "\n",
        "Pre-qualification is more like an educated guess on the part of the bank or lending institution about whether a loan is qualify for a customer. This estimate or loan eligibility is based on customers current earning power, credit score, financial history, etc."
      ]
    },
    {
      "cell_type": "code",
      "metadata": {
        "id": "FljPh4exDNSU"
      },
      "source": [
        "# Import necessary libraries\n",
        "# For Data Manipulation\n",
        "import numpy as np \n",
        "import pandas as pd \n",
        "\n",
        "# For plotting\n",
        "import seaborn as sns\n",
        "%matplotlib inline\n",
        "from matplotlib import pyplot as plt\n",
        "from matplotlib import style\n",
        "\n",
        "# For scientific calculations\n",
        "from sklearn.linear_model import LogisticRegression\n",
        "from sklearn.ensemble import RandomForestClassifier\n",
        "from sklearn.tree import DecisionTreeClassifier\n",
        "from sklearn.neighbors import KNeighborsClassifier\n",
        "from sklearn.naive_bayes import GaussianNB"
      ],
      "execution_count": null,
      "outputs": []
    },
    {
      "cell_type": "code",
      "metadata": {
        "id": "MZM44jdUDNSV",
        "outputId": "6725dd92-9905-4f73-9563-64780c7ae40f"
      },
      "source": [
        "# Read data from given trainig csv file by removing the first unnamed index\n",
        "train_df = pd.read_csv('cs-training.csv', index_col=0)\n",
        "train_df.shape"
      ],
      "execution_count": null,
      "outputs": [
        {
          "output_type": "execute_result",
          "data": {
            "text/plain": [
              "(150000, 11)"
            ]
          },
          "metadata": {
            "tags": []
          },
          "execution_count": 356
        }
      ]
    },
    {
      "cell_type": "code",
      "metadata": {
        "id": "LgDxzO6IDNSW",
        "outputId": "f629a96f-2e75-4fc6-ea9b-add0ed20a662"
      },
      "source": [
        "train_df.head()"
      ],
      "execution_count": null,
      "outputs": [
        {
          "output_type": "execute_result",
          "data": {
            "text/html": [
              "<div>\n",
              "<style scoped>\n",
              "    .dataframe tbody tr th:only-of-type {\n",
              "        vertical-align: middle;\n",
              "    }\n",
              "\n",
              "    .dataframe tbody tr th {\n",
              "        vertical-align: top;\n",
              "    }\n",
              "\n",
              "    .dataframe thead th {\n",
              "        text-align: right;\n",
              "    }\n",
              "</style>\n",
              "<table border=\"1\" class=\"dataframe\">\n",
              "  <thead>\n",
              "    <tr style=\"text-align: right;\">\n",
              "      <th></th>\n",
              "      <th>SeriousDlqin2yrs</th>\n",
              "      <th>RevolvingUtilizationOfUnsecuredLines</th>\n",
              "      <th>age</th>\n",
              "      <th>NumberOfTime30-59DaysPastDueNotWorse</th>\n",
              "      <th>DebtRatio</th>\n",
              "      <th>MonthlyIncome</th>\n",
              "      <th>NumberOfOpenCreditLinesAndLoans</th>\n",
              "      <th>NumberOfTimes90DaysLate</th>\n",
              "      <th>NumberRealEstateLoansOrLines</th>\n",
              "      <th>NumberOfTime60-89DaysPastDueNotWorse</th>\n",
              "      <th>NumberOfDependents</th>\n",
              "    </tr>\n",
              "  </thead>\n",
              "  <tbody>\n",
              "    <tr>\n",
              "      <th>1</th>\n",
              "      <td>1</td>\n",
              "      <td>0.766127</td>\n",
              "      <td>45</td>\n",
              "      <td>2</td>\n",
              "      <td>0.802982</td>\n",
              "      <td>9120.0</td>\n",
              "      <td>13</td>\n",
              "      <td>0</td>\n",
              "      <td>6</td>\n",
              "      <td>0</td>\n",
              "      <td>2.0</td>\n",
              "    </tr>\n",
              "    <tr>\n",
              "      <th>2</th>\n",
              "      <td>0</td>\n",
              "      <td>0.957151</td>\n",
              "      <td>40</td>\n",
              "      <td>0</td>\n",
              "      <td>0.121876</td>\n",
              "      <td>2600.0</td>\n",
              "      <td>4</td>\n",
              "      <td>0</td>\n",
              "      <td>0</td>\n",
              "      <td>0</td>\n",
              "      <td>1.0</td>\n",
              "    </tr>\n",
              "    <tr>\n",
              "      <th>3</th>\n",
              "      <td>0</td>\n",
              "      <td>0.658180</td>\n",
              "      <td>38</td>\n",
              "      <td>1</td>\n",
              "      <td>0.085113</td>\n",
              "      <td>3042.0</td>\n",
              "      <td>2</td>\n",
              "      <td>1</td>\n",
              "      <td>0</td>\n",
              "      <td>0</td>\n",
              "      <td>0.0</td>\n",
              "    </tr>\n",
              "    <tr>\n",
              "      <th>4</th>\n",
              "      <td>0</td>\n",
              "      <td>0.233810</td>\n",
              "      <td>30</td>\n",
              "      <td>0</td>\n",
              "      <td>0.036050</td>\n",
              "      <td>3300.0</td>\n",
              "      <td>5</td>\n",
              "      <td>0</td>\n",
              "      <td>0</td>\n",
              "      <td>0</td>\n",
              "      <td>0.0</td>\n",
              "    </tr>\n",
              "    <tr>\n",
              "      <th>5</th>\n",
              "      <td>0</td>\n",
              "      <td>0.907239</td>\n",
              "      <td>49</td>\n",
              "      <td>1</td>\n",
              "      <td>0.024926</td>\n",
              "      <td>63588.0</td>\n",
              "      <td>7</td>\n",
              "      <td>0</td>\n",
              "      <td>1</td>\n",
              "      <td>0</td>\n",
              "      <td>0.0</td>\n",
              "    </tr>\n",
              "  </tbody>\n",
              "</table>\n",
              "</div>"
            ],
            "text/plain": [
              "   SeriousDlqin2yrs  RevolvingUtilizationOfUnsecuredLines  age  \\\n",
              "1                 1                              0.766127   45   \n",
              "2                 0                              0.957151   40   \n",
              "3                 0                              0.658180   38   \n",
              "4                 0                              0.233810   30   \n",
              "5                 0                              0.907239   49   \n",
              "\n",
              "   NumberOfTime30-59DaysPastDueNotWorse  DebtRatio  MonthlyIncome  \\\n",
              "1                                     2   0.802982         9120.0   \n",
              "2                                     0   0.121876         2600.0   \n",
              "3                                     1   0.085113         3042.0   \n",
              "4                                     0   0.036050         3300.0   \n",
              "5                                     1   0.024926        63588.0   \n",
              "\n",
              "   NumberOfOpenCreditLinesAndLoans  NumberOfTimes90DaysLate  \\\n",
              "1                               13                        0   \n",
              "2                                4                        0   \n",
              "3                                2                        1   \n",
              "4                                5                        0   \n",
              "5                                7                        0   \n",
              "\n",
              "   NumberRealEstateLoansOrLines  NumberOfTime60-89DaysPastDueNotWorse  \\\n",
              "1                             6                                     0   \n",
              "2                             0                                     0   \n",
              "3                             0                                     0   \n",
              "4                             0                                     0   \n",
              "5                             1                                     0   \n",
              "\n",
              "   NumberOfDependents  \n",
              "1                 2.0  \n",
              "2                 1.0  \n",
              "3                 0.0  \n",
              "4                 0.0  \n",
              "5                 0.0  "
            ]
          },
          "metadata": {
            "tags": []
          },
          "execution_count": 357
        }
      ]
    },
    {
      "cell_type": "markdown",
      "metadata": {
        "id": "TX3VfekyDNSW"
      },
      "source": [
        "#### Feature Analysis"
      ]
    },
    {
      "cell_type": "code",
      "metadata": {
        "id": "XbhceB4IDNSW",
        "outputId": "4a3e82a1-4816-4129-b5a1-986df6cf4db0"
      },
      "source": [
        "# Check the detailed column of each feature\n",
        "train_df.info()"
      ],
      "execution_count": null,
      "outputs": [
        {
          "output_type": "stream",
          "text": [
            "<class 'pandas.core.frame.DataFrame'>\n",
            "Int64Index: 150000 entries, 1 to 150000\n",
            "Data columns (total 11 columns):\n",
            "SeriousDlqin2yrs                        150000 non-null int64\n",
            "RevolvingUtilizationOfUnsecuredLines    150000 non-null float64\n",
            "age                                     150000 non-null int64\n",
            "NumberOfTime30-59DaysPastDueNotWorse    150000 non-null int64\n",
            "DebtRatio                               150000 non-null float64\n",
            "MonthlyIncome                           120269 non-null float64\n",
            "NumberOfOpenCreditLinesAndLoans         150000 non-null int64\n",
            "NumberOfTimes90DaysLate                 150000 non-null int64\n",
            "NumberRealEstateLoansOrLines            150000 non-null int64\n",
            "NumberOfTime60-89DaysPastDueNotWorse    150000 non-null int64\n",
            "NumberOfDependents                      146076 non-null float64\n",
            "dtypes: float64(4), int64(7)\n",
            "memory usage: 13.7 MB\n"
          ],
          "name": "stdout"
        }
      ]
    },
    {
      "cell_type": "code",
      "metadata": {
        "id": "EORmFSw9DNSW",
        "outputId": "7a6b8e08-dedf-413c-96b4-a23c40a365c4"
      },
      "source": [
        "# Describe the dataset with mean, std, min etc.\n",
        "train_df.describe()"
      ],
      "execution_count": null,
      "outputs": [
        {
          "output_type": "execute_result",
          "data": {
            "text/html": [
              "<div>\n",
              "<style scoped>\n",
              "    .dataframe tbody tr th:only-of-type {\n",
              "        vertical-align: middle;\n",
              "    }\n",
              "\n",
              "    .dataframe tbody tr th {\n",
              "        vertical-align: top;\n",
              "    }\n",
              "\n",
              "    .dataframe thead th {\n",
              "        text-align: right;\n",
              "    }\n",
              "</style>\n",
              "<table border=\"1\" class=\"dataframe\">\n",
              "  <thead>\n",
              "    <tr style=\"text-align: right;\">\n",
              "      <th></th>\n",
              "      <th>SeriousDlqin2yrs</th>\n",
              "      <th>RevolvingUtilizationOfUnsecuredLines</th>\n",
              "      <th>age</th>\n",
              "      <th>NumberOfTime30-59DaysPastDueNotWorse</th>\n",
              "      <th>DebtRatio</th>\n",
              "      <th>MonthlyIncome</th>\n",
              "      <th>NumberOfOpenCreditLinesAndLoans</th>\n",
              "      <th>NumberOfTimes90DaysLate</th>\n",
              "      <th>NumberRealEstateLoansOrLines</th>\n",
              "      <th>NumberOfTime60-89DaysPastDueNotWorse</th>\n",
              "      <th>NumberOfDependents</th>\n",
              "    </tr>\n",
              "  </thead>\n",
              "  <tbody>\n",
              "    <tr>\n",
              "      <th>count</th>\n",
              "      <td>150000.000000</td>\n",
              "      <td>150000.000000</td>\n",
              "      <td>150000.000000</td>\n",
              "      <td>150000.000000</td>\n",
              "      <td>150000.000000</td>\n",
              "      <td>1.202690e+05</td>\n",
              "      <td>150000.000000</td>\n",
              "      <td>150000.000000</td>\n",
              "      <td>150000.000000</td>\n",
              "      <td>150000.000000</td>\n",
              "      <td>146076.000000</td>\n",
              "    </tr>\n",
              "    <tr>\n",
              "      <th>mean</th>\n",
              "      <td>0.066840</td>\n",
              "      <td>6.048438</td>\n",
              "      <td>52.295207</td>\n",
              "      <td>0.421033</td>\n",
              "      <td>353.005076</td>\n",
              "      <td>6.670221e+03</td>\n",
              "      <td>8.452760</td>\n",
              "      <td>0.265973</td>\n",
              "      <td>1.018240</td>\n",
              "      <td>0.240387</td>\n",
              "      <td>0.757222</td>\n",
              "    </tr>\n",
              "    <tr>\n",
              "      <th>std</th>\n",
              "      <td>0.249746</td>\n",
              "      <td>249.755371</td>\n",
              "      <td>14.771866</td>\n",
              "      <td>4.192781</td>\n",
              "      <td>2037.818523</td>\n",
              "      <td>1.438467e+04</td>\n",
              "      <td>5.145951</td>\n",
              "      <td>4.169304</td>\n",
              "      <td>1.129771</td>\n",
              "      <td>4.155179</td>\n",
              "      <td>1.115086</td>\n",
              "    </tr>\n",
              "    <tr>\n",
              "      <th>min</th>\n",
              "      <td>0.000000</td>\n",
              "      <td>0.000000</td>\n",
              "      <td>0.000000</td>\n",
              "      <td>0.000000</td>\n",
              "      <td>0.000000</td>\n",
              "      <td>0.000000e+00</td>\n",
              "      <td>0.000000</td>\n",
              "      <td>0.000000</td>\n",
              "      <td>0.000000</td>\n",
              "      <td>0.000000</td>\n",
              "      <td>0.000000</td>\n",
              "    </tr>\n",
              "    <tr>\n",
              "      <th>25%</th>\n",
              "      <td>0.000000</td>\n",
              "      <td>0.029867</td>\n",
              "      <td>41.000000</td>\n",
              "      <td>0.000000</td>\n",
              "      <td>0.175074</td>\n",
              "      <td>3.400000e+03</td>\n",
              "      <td>5.000000</td>\n",
              "      <td>0.000000</td>\n",
              "      <td>0.000000</td>\n",
              "      <td>0.000000</td>\n",
              "      <td>0.000000</td>\n",
              "    </tr>\n",
              "    <tr>\n",
              "      <th>50%</th>\n",
              "      <td>0.000000</td>\n",
              "      <td>0.154181</td>\n",
              "      <td>52.000000</td>\n",
              "      <td>0.000000</td>\n",
              "      <td>0.366508</td>\n",
              "      <td>5.400000e+03</td>\n",
              "      <td>8.000000</td>\n",
              "      <td>0.000000</td>\n",
              "      <td>1.000000</td>\n",
              "      <td>0.000000</td>\n",
              "      <td>0.000000</td>\n",
              "    </tr>\n",
              "    <tr>\n",
              "      <th>75%</th>\n",
              "      <td>0.000000</td>\n",
              "      <td>0.559046</td>\n",
              "      <td>63.000000</td>\n",
              "      <td>0.000000</td>\n",
              "      <td>0.868254</td>\n",
              "      <td>8.249000e+03</td>\n",
              "      <td>11.000000</td>\n",
              "      <td>0.000000</td>\n",
              "      <td>2.000000</td>\n",
              "      <td>0.000000</td>\n",
              "      <td>1.000000</td>\n",
              "    </tr>\n",
              "    <tr>\n",
              "      <th>max</th>\n",
              "      <td>1.000000</td>\n",
              "      <td>50708.000000</td>\n",
              "      <td>109.000000</td>\n",
              "      <td>98.000000</td>\n",
              "      <td>329664.000000</td>\n",
              "      <td>3.008750e+06</td>\n",
              "      <td>58.000000</td>\n",
              "      <td>98.000000</td>\n",
              "      <td>54.000000</td>\n",
              "      <td>98.000000</td>\n",
              "      <td>20.000000</td>\n",
              "    </tr>\n",
              "  </tbody>\n",
              "</table>\n",
              "</div>"
            ],
            "text/plain": [
              "       SeriousDlqin2yrs  RevolvingUtilizationOfUnsecuredLines            age  \\\n",
              "count     150000.000000                         150000.000000  150000.000000   \n",
              "mean           0.066840                              6.048438      52.295207   \n",
              "std            0.249746                            249.755371      14.771866   \n",
              "min            0.000000                              0.000000       0.000000   \n",
              "25%            0.000000                              0.029867      41.000000   \n",
              "50%            0.000000                              0.154181      52.000000   \n",
              "75%            0.000000                              0.559046      63.000000   \n",
              "max            1.000000                          50708.000000     109.000000   \n",
              "\n",
              "       NumberOfTime30-59DaysPastDueNotWorse      DebtRatio  MonthlyIncome  \\\n",
              "count                         150000.000000  150000.000000   1.202690e+05   \n",
              "mean                               0.421033     353.005076   6.670221e+03   \n",
              "std                                4.192781    2037.818523   1.438467e+04   \n",
              "min                                0.000000       0.000000   0.000000e+00   \n",
              "25%                                0.000000       0.175074   3.400000e+03   \n",
              "50%                                0.000000       0.366508   5.400000e+03   \n",
              "75%                                0.000000       0.868254   8.249000e+03   \n",
              "max                               98.000000  329664.000000   3.008750e+06   \n",
              "\n",
              "       NumberOfOpenCreditLinesAndLoans  NumberOfTimes90DaysLate  \\\n",
              "count                    150000.000000            150000.000000   \n",
              "mean                          8.452760                 0.265973   \n",
              "std                           5.145951                 4.169304   \n",
              "min                           0.000000                 0.000000   \n",
              "25%                           5.000000                 0.000000   \n",
              "50%                           8.000000                 0.000000   \n",
              "75%                          11.000000                 0.000000   \n",
              "max                          58.000000                98.000000   \n",
              "\n",
              "       NumberRealEstateLoansOrLines  NumberOfTime60-89DaysPastDueNotWorse  \\\n",
              "count                 150000.000000                         150000.000000   \n",
              "mean                       1.018240                              0.240387   \n",
              "std                        1.129771                              4.155179   \n",
              "min                        0.000000                              0.000000   \n",
              "25%                        0.000000                              0.000000   \n",
              "50%                        1.000000                              0.000000   \n",
              "75%                        2.000000                              0.000000   \n",
              "max                       54.000000                             98.000000   \n",
              "\n",
              "       NumberOfDependents  \n",
              "count       146076.000000  \n",
              "mean             0.757222  \n",
              "std              1.115086  \n",
              "min              0.000000  \n",
              "25%              0.000000  \n",
              "50%              0.000000  \n",
              "75%              1.000000  \n",
              "max             20.000000  "
            ]
          },
          "metadata": {
            "tags": []
          },
          "execution_count": 359
        }
      ]
    },
    {
      "cell_type": "markdown",
      "metadata": {
        "id": "7cpZXDNwDNSW"
      },
      "source": [
        "#### Analysing the missing value details in the dataset in a table by percenage"
      ]
    },
    {
      "cell_type": "code",
      "metadata": {
        "id": "B-td8ktIDNSW",
        "outputId": "2b6a906f-4d15-4a36-c3e9-c26e2b79f0cf"
      },
      "source": [
        "# Get complete detail percentage and total of how many null values are there in each feature\n",
        "total = train_df.isnull().sum().sort_values(ascending=False)\n",
        "percent_1 = train_df.isnull().sum()/train_df.isnull().count()*100\n",
        "percent_2 = (round(percent_1, 1)).sort_values(ascending=False)\n",
        "missing_data = pd.concat([total, percent_2], axis=1, keys=['Total', '%'])\n",
        "missing_data.head(11)"
      ],
      "execution_count": null,
      "outputs": [
        {
          "output_type": "execute_result",
          "data": {
            "text/html": [
              "<div>\n",
              "<style scoped>\n",
              "    .dataframe tbody tr th:only-of-type {\n",
              "        vertical-align: middle;\n",
              "    }\n",
              "\n",
              "    .dataframe tbody tr th {\n",
              "        vertical-align: top;\n",
              "    }\n",
              "\n",
              "    .dataframe thead th {\n",
              "        text-align: right;\n",
              "    }\n",
              "</style>\n",
              "<table border=\"1\" class=\"dataframe\">\n",
              "  <thead>\n",
              "    <tr style=\"text-align: right;\">\n",
              "      <th></th>\n",
              "      <th>Total</th>\n",
              "      <th>%</th>\n",
              "    </tr>\n",
              "  </thead>\n",
              "  <tbody>\n",
              "    <tr>\n",
              "      <th>MonthlyIncome</th>\n",
              "      <td>29731</td>\n",
              "      <td>19.8</td>\n",
              "    </tr>\n",
              "    <tr>\n",
              "      <th>NumberOfDependents</th>\n",
              "      <td>3924</td>\n",
              "      <td>2.6</td>\n",
              "    </tr>\n",
              "    <tr>\n",
              "      <th>NumberOfTime60-89DaysPastDueNotWorse</th>\n",
              "      <td>0</td>\n",
              "      <td>0.0</td>\n",
              "    </tr>\n",
              "    <tr>\n",
              "      <th>NumberRealEstateLoansOrLines</th>\n",
              "      <td>0</td>\n",
              "      <td>0.0</td>\n",
              "    </tr>\n",
              "    <tr>\n",
              "      <th>NumberOfTimes90DaysLate</th>\n",
              "      <td>0</td>\n",
              "      <td>0.0</td>\n",
              "    </tr>\n",
              "    <tr>\n",
              "      <th>NumberOfOpenCreditLinesAndLoans</th>\n",
              "      <td>0</td>\n",
              "      <td>0.0</td>\n",
              "    </tr>\n",
              "    <tr>\n",
              "      <th>DebtRatio</th>\n",
              "      <td>0</td>\n",
              "      <td>0.0</td>\n",
              "    </tr>\n",
              "    <tr>\n",
              "      <th>NumberOfTime30-59DaysPastDueNotWorse</th>\n",
              "      <td>0</td>\n",
              "      <td>0.0</td>\n",
              "    </tr>\n",
              "    <tr>\n",
              "      <th>age</th>\n",
              "      <td>0</td>\n",
              "      <td>0.0</td>\n",
              "    </tr>\n",
              "    <tr>\n",
              "      <th>RevolvingUtilizationOfUnsecuredLines</th>\n",
              "      <td>0</td>\n",
              "      <td>0.0</td>\n",
              "    </tr>\n",
              "    <tr>\n",
              "      <th>SeriousDlqin2yrs</th>\n",
              "      <td>0</td>\n",
              "      <td>0.0</td>\n",
              "    </tr>\n",
              "  </tbody>\n",
              "</table>\n",
              "</div>"
            ],
            "text/plain": [
              "                                      Total     %\n",
              "MonthlyIncome                         29731  19.8\n",
              "NumberOfDependents                     3924   2.6\n",
              "NumberOfTime60-89DaysPastDueNotWorse      0   0.0\n",
              "NumberRealEstateLoansOrLines              0   0.0\n",
              "NumberOfTimes90DaysLate                   0   0.0\n",
              "NumberOfOpenCreditLinesAndLoans           0   0.0\n",
              "DebtRatio                                 0   0.0\n",
              "NumberOfTime30-59DaysPastDueNotWorse      0   0.0\n",
              "age                                       0   0.0\n",
              "RevolvingUtilizationOfUnsecuredLines      0   0.0\n",
              "SeriousDlqin2yrs                          0   0.0"
            ]
          },
          "metadata": {
            "tags": []
          },
          "execution_count": 360
        }
      ]
    },
    {
      "cell_type": "markdown",
      "metadata": {
        "id": "nhddxxE1DNSW"
      },
      "source": [
        "#### Creating scatter plots with DataFrame.plot by passing kind='scatter'. Scatter plot requires numeric columns for x and y axis. These can be specified by x and y keywords each"
      ]
    },
    {
      "cell_type": "code",
      "metadata": {
        "id": "g9o4kTG9DNSW",
        "outputId": "e32a279b-3e7f-4b24-a554-e9acfc2df862"
      },
      "source": [
        "train_df_plt = pd.DataFrame(np.random.rand(1500, 4), columns=['SeriousDlqin2yrs','age', 'NumberOfTimes90DaysLate',\n",
        "                                                          'NumberOfTime30-59DaysPastDueNotWorse'])\n",
        "train_df_plt.plot(kind='scatter', x='NumberOfTimes90DaysLate', y='SeriousDlqin2yrs');"
      ],
      "execution_count": null,
      "outputs": [
        {
          "output_type": "display_data",
          "data": {
            "image/png": "[encoded data removed]",
            "text/plain": [
              "<matplotlib.figure.Figure at 0x177cb1d0>"
            ]
          },
          "metadata": {
            "tags": []
          }
        }
      ]
    },
    {
      "cell_type": "markdown",
      "metadata": {
        "id": "q_AXzU9ADNSX"
      },
      "source": [
        "#### To plot multiple column groups in a single axes, repeat plot method specifying target ax. It is recommended to specify color and label keywords to distinguish each groups"
      ]
    },
    {
      "cell_type": "code",
      "metadata": {
        "id": "9FbHARWpDNSX",
        "outputId": "f6033415-3855-4081-c1cb-b2d8d232ae85"
      },
      "source": [
        "ax = train_df_plt.plot(kind='scatter', x='NumberOfTimes90DaysLate', y='SeriousDlqin2yrs',\n",
        "                color='DarkBlue', label='Group 1');\n",
        "   \n",
        "train_df_plt.plot(kind='scatter', x='age', y='NumberOfTime30-59DaysPastDueNotWorse',\n",
        "        color='DarkGreen', label='Group 2', ax=ax);"
      ],
      "execution_count": null,
      "outputs": [
        {
          "output_type": "display_data",
          "data": {
            "image/png": "[encoded data removed]",
            "text/plain": [
              "<matplotlib.figure.Figure at 0x166becd0>"
            ]
          },
          "metadata": {
            "tags": []
          }
        }
      ]
    },
    {
      "cell_type": "markdown",
      "metadata": {
        "id": "MQsh_5d7DNSX"
      },
      "source": [
        "The above Scatter plots do not show any correlation or greater dependency of one variable to another to make any inference."
      ]
    },
    {
      "cell_type": "markdown",
      "metadata": {
        "id": "_hDsnTmYDNSX"
      },
      "source": [
        "#### Updating the missing values by imputing those values to its mean as we could not remove those values because of data limitation. Plot the importance of each feature in tabular view"
      ]
    },
    {
      "cell_type": "code",
      "metadata": {
        "id": "37DlaMamDNSX",
        "outputId": "f2cc2ff5-b7dc-431f-942f-b1f79a4a43a2"
      },
      "source": [
        "train_df = train_df.fillna(train_df.mean())\n",
        "Z_train = train_df.drop(\"SeriousDlqin2yrs\", axis=1)\n",
        "W_train = train_df[\"SeriousDlqin2yrs\"]\n",
        "d1tree= DecisionTreeClassifier()\n",
        "d1tree.fit(Z_train, W_train)\n",
        "importances = pd.DataFrame({'feature':Z_train.columns,'importance':np.round(d1tree.feature_importances_,3)})\n",
        "importances = importances.sort_values('importance',ascending=False).set_index('feature')\n",
        "importances.head(15)"
      ],
      "execution_count": null,
      "outputs": [
        {
          "output_type": "execute_result",
          "data": {
            "text/html": [
              "<div>\n",
              "<style scoped>\n",
              "    .dataframe tbody tr th:only-of-type {\n",
              "        vertical-align: middle;\n",
              "    }\n",
              "\n",
              "    .dataframe tbody tr th {\n",
              "        vertical-align: top;\n",
              "    }\n",
              "\n",
              "    .dataframe thead th {\n",
              "        text-align: right;\n",
              "    }\n",
              "</style>\n",
              "<table border=\"1\" class=\"dataframe\">\n",
              "  <thead>\n",
              "    <tr style=\"text-align: right;\">\n",
              "      <th></th>\n",
              "      <th>importance</th>\n",
              "    </tr>\n",
              "    <tr>\n",
              "      <th>feature</th>\n",
              "      <th></th>\n",
              "    </tr>\n",
              "  </thead>\n",
              "  <tbody>\n",
              "    <tr>\n",
              "      <th>DebtRatio</th>\n",
              "      <td>0.197</td>\n",
              "    </tr>\n",
              "    <tr>\n",
              "      <th>RevolvingUtilizationOfUnsecuredLines</th>\n",
              "      <td>0.193</td>\n",
              "    </tr>\n",
              "    <tr>\n",
              "      <th>MonthlyIncome</th>\n",
              "      <td>0.150</td>\n",
              "    </tr>\n",
              "    <tr>\n",
              "      <th>NumberOfTimes90DaysLate</th>\n",
              "      <td>0.128</td>\n",
              "    </tr>\n",
              "    <tr>\n",
              "      <th>age</th>\n",
              "      <td>0.121</td>\n",
              "    </tr>\n",
              "    <tr>\n",
              "      <th>NumberOfOpenCreditLinesAndLoans</th>\n",
              "      <td>0.085</td>\n",
              "    </tr>\n",
              "    <tr>\n",
              "      <th>NumberOfDependents</th>\n",
              "      <td>0.040</td>\n",
              "    </tr>\n",
              "    <tr>\n",
              "      <th>NumberOfTime30-59DaysPastDueNotWorse</th>\n",
              "      <td>0.037</td>\n",
              "    </tr>\n",
              "    <tr>\n",
              "      <th>NumberRealEstateLoansOrLines</th>\n",
              "      <td>0.028</td>\n",
              "    </tr>\n",
              "    <tr>\n",
              "      <th>NumberOfTime60-89DaysPastDueNotWorse</th>\n",
              "      <td>0.022</td>\n",
              "    </tr>\n",
              "  </tbody>\n",
              "</table>\n",
              "</div>"
            ],
            "text/plain": [
              "                                      importance\n",
              "feature                                         \n",
              "DebtRatio                                  0.197\n",
              "RevolvingUtilizationOfUnsecuredLines       0.193\n",
              "MonthlyIncome                              0.150\n",
              "NumberOfTimes90DaysLate                    0.128\n",
              "age                                        0.121\n",
              "NumberOfOpenCreditLinesAndLoans            0.085\n",
              "NumberOfDependents                         0.040\n",
              "NumberOfTime30-59DaysPastDueNotWorse       0.037\n",
              "NumberRealEstateLoansOrLines               0.028\n",
              "NumberOfTime60-89DaysPastDueNotWorse       0.022"
            ]
          },
          "metadata": {
            "tags": []
          },
          "execution_count": 363
        }
      ]
    },
    {
      "cell_type": "markdown",
      "metadata": {
        "id": "6NLgQtLTDNSX"
      },
      "source": [
        "#### Plotting the importance in histogram"
      ]
    },
    {
      "cell_type": "code",
      "metadata": {
        "id": "os9CF92-DNSX",
        "outputId": "de9d15fb-0621-41a3-ccf1-ee3a9de65460"
      },
      "source": [
        "importances.plot.bar()"
      ],
      "execution_count": null,
      "outputs": [
        {
          "output_type": "execute_result",
          "data": {
            "text/plain": [
              "<matplotlib.axes._subplots.AxesSubplot at 0x1a5c0a30>"
            ]
          },
          "metadata": {
            "tags": []
          },
          "execution_count": 364
        },
        {
          "output_type": "display_data",
          "data": {
            "image/png": "[encoded data removed]",
            "text/plain": [
              "<matplotlib.figure.Figure at 0x177b2210>"
            ]
          },
          "metadata": {
            "tags": []
          }
        }
      ]
    },
    {
      "cell_type": "markdown",
      "metadata": {
        "id": "7Fx0JhqODNSX"
      },
      "source": [
        "Importance of individual features are computed with the help of the tree based approach and they are listed in a decreasing order. Even though some features are less important than othes, they are not removed considering the volume of the data set while ensuring the influence of every feature on making decisions."
      ]
    },
    {
      "cell_type": "markdown",
      "metadata": {
        "id": "5FEa_CK-DNSX"
      },
      "source": [
        "#### Data visualization - Represent graphically the current data and we can see 6.6% are geniune customers who are eligible to lend the loan, Others didn't  clear the approval criteria. So this shows the serious threat of blindly lending loans with out classifying the customers."
      ]
    },
    {
      "cell_type": "code",
      "metadata": {
        "scrolled": true,
        "id": "rrnZhDs0DNSX",
        "outputId": "bb96b961-1c81-4101-8b43-e1a2f975d92a"
      },
      "source": [
        "def add_freq():\n",
        "    ncount = len(train_df)\n",
        "    ax2=ax.twinx()\n",
        "    ax2.yaxis.tick_left()\n",
        "    ax.yaxis.tick_right()\n",
        "    ax.yaxis.set_label_position('right')\n",
        "    ax2.yaxis.set_label_position('left')\n",
        "\n",
        "    for p in ax.patches:\n",
        "        x=p.get_bbox().get_points()[:,0]\n",
        "        y=p.get_bbox().get_points()[1,1]\n",
        "        ax.annotate('{:.1f}%'.format(100.*y/ncount), (x.mean(), y), \n",
        "                ha='center', va='bottom')\n",
        "    ax2.set_ylim(0,100)\n",
        "    ax2.grid(None)\n",
        "\n",
        "\n",
        "ax = sns.countplot(x = train_df.SeriousDlqin2yrs ,palette=\"Set1\")\n",
        "sns.set(font_scale=1.5)\n",
        "sns.set(style=\"darkgrid\")\n",
        "ax.set_ylim(top = 150000)\n",
        "ax.set_xlabel(' ')\n",
        "ax.set_ylabel('Past due delinquency [%]')\n",
        "fig = plt.gcf()\n",
        "fig.set_size_inches(10,5)\n",
        "ax.set_ylim(top=160000)\n",
        "add_freq()\n",
        "plt.show()"
      ],
      "execution_count": null,
      "outputs": [
        {
          "output_type": "display_data",
          "data": {
            "image/png": "[encoded data removed]",
            "text/plain": [
              "<matplotlib.figure.Figure at 0x1a5ff750>"
            ]
          },
          "metadata": {
            "tags": []
          }
        }
      ]
    },
    {
      "cell_type": "code",
      "metadata": {
        "id": "3193_-BODNSX",
        "outputId": "5dc32339-5243-4257-e0b5-cbcd3735a314"
      },
      "source": [
        "train_df['SeriousDlqin2yrs'].value_counts().plot(kind='bar')"
      ],
      "execution_count": null,
      "outputs": [
        {
          "output_type": "execute_result",
          "data": {
            "text/plain": [
              "<matplotlib.axes._subplots.AxesSubplot at 0x189b8650>"
            ]
          },
          "metadata": {
            "tags": []
          },
          "execution_count": 366
        },
        {
          "output_type": "display_data",
          "data": {
            "image/png": "[encoded data removed]",
            "text/plain": [
              "<matplotlib.figure.Figure at 0x13a64c10>"
            ]
          },
          "metadata": {
            "tags": []
          }
        }
      ]
    },
    {
      "cell_type": "markdown",
      "metadata": {
        "id": "gqr1YmeGDNSX"
      },
      "source": [
        "#### Viewing first 15 customers data"
      ]
    },
    {
      "cell_type": "code",
      "metadata": {
        "id": "N6NlFhP1DNSX",
        "outputId": "e1bcb004-ed2e-4809-8766-295369e6efe6"
      },
      "source": [
        "train_df.head(15)"
      ],
      "execution_count": null,
      "outputs": [
        {
          "output_type": "execute_result",
          "data": {
            "text/html": [
              "<div>\n",
              "<style scoped>\n",
              "    .dataframe tbody tr th:only-of-type {\n",
              "        vertical-align: middle;\n",
              "    }\n",
              "\n",
              "    .dataframe tbody tr th {\n",
              "        vertical-align: top;\n",
              "    }\n",
              "\n",
              "    .dataframe thead th {\n",
              "        text-align: right;\n",
              "    }\n",
              "</style>\n",
              "<table border=\"1\" class=\"dataframe\">\n",
              "  <thead>\n",
              "    <tr style=\"text-align: right;\">\n",
              "      <th></th>\n",
              "      <th>SeriousDlqin2yrs</th>\n",
              "      <th>RevolvingUtilizationOfUnsecuredLines</th>\n",
              "      <th>age</th>\n",
              "      <th>NumberOfTime30-59DaysPastDueNotWorse</th>\n",
              "      <th>DebtRatio</th>\n",
              "      <th>MonthlyIncome</th>\n",
              "      <th>NumberOfOpenCreditLinesAndLoans</th>\n",
              "      <th>NumberOfTimes90DaysLate</th>\n",
              "      <th>NumberRealEstateLoansOrLines</th>\n",
              "      <th>NumberOfTime60-89DaysPastDueNotWorse</th>\n",
              "      <th>NumberOfDependents</th>\n",
              "    </tr>\n",
              "  </thead>\n",
              "  <tbody>\n",
              "    <tr>\n",
              "      <th>1</th>\n",
              "      <td>1</td>\n",
              "      <td>0.766127</td>\n",
              "      <td>45</td>\n",
              "      <td>2</td>\n",
              "      <td>0.802982</td>\n",
              "      <td>9120.000000</td>\n",
              "      <td>13</td>\n",
              "      <td>0</td>\n",
              "      <td>6</td>\n",
              "      <td>0</td>\n",
              "      <td>2.000000</td>\n",
              "    </tr>\n",
              "    <tr>\n",
              "      <th>2</th>\n",
              "      <td>0</td>\n",
              "      <td>0.957151</td>\n",
              "      <td>40</td>\n",
              "      <td>0</td>\n",
              "      <td>0.121876</td>\n",
              "      <td>2600.000000</td>\n",
              "      <td>4</td>\n",
              "      <td>0</td>\n",
              "      <td>0</td>\n",
              "      <td>0</td>\n",
              "      <td>1.000000</td>\n",
              "    </tr>\n",
              "    <tr>\n",
              "      <th>3</th>\n",
              "      <td>0</td>\n",
              "      <td>0.658180</td>\n",
              "      <td>38</td>\n",
              "      <td>1</td>\n",
              "      <td>0.085113</td>\n",
              "      <td>3042.000000</td>\n",
              "      <td>2</td>\n",
              "      <td>1</td>\n",
              "      <td>0</td>\n",
              "      <td>0</td>\n",
              "      <td>0.000000</td>\n",
              "    </tr>\n",
              "    <tr>\n",
              "      <th>4</th>\n",
              "      <td>0</td>\n",
              "      <td>0.233810</td>\n",
              "      <td>30</td>\n",
              "      <td>0</td>\n",
              "      <td>0.036050</td>\n",
              "      <td>3300.000000</td>\n",
              "      <td>5</td>\n",
              "      <td>0</td>\n",
              "      <td>0</td>\n",
              "      <td>0</td>\n",
              "      <td>0.000000</td>\n",
              "    </tr>\n",
              "    <tr>\n",
              "      <th>5</th>\n",
              "      <td>0</td>\n",
              "      <td>0.907239</td>\n",
              "      <td>49</td>\n",
              "      <td>1</td>\n",
              "      <td>0.024926</td>\n",
              "      <td>63588.000000</td>\n",
              "      <td>7</td>\n",
              "      <td>0</td>\n",
              "      <td>1</td>\n",
              "      <td>0</td>\n",
              "      <td>0.000000</td>\n",
              "    </tr>\n",
              "    <tr>\n",
              "      <th>6</th>\n",
              "      <td>0</td>\n",
              "      <td>0.213179</td>\n",
              "      <td>74</td>\n",
              "      <td>0</td>\n",
              "      <td>0.375607</td>\n",
              "      <td>3500.000000</td>\n",
              "      <td>3</td>\n",
              "      <td>0</td>\n",
              "      <td>1</td>\n",
              "      <td>0</td>\n",
              "      <td>1.000000</td>\n",
              "    </tr>\n",
              "    <tr>\n",
              "      <th>7</th>\n",
              "      <td>0</td>\n",
              "      <td>0.305682</td>\n",
              "      <td>57</td>\n",
              "      <td>0</td>\n",
              "      <td>5710.000000</td>\n",
              "      <td>6670.221237</td>\n",
              "      <td>8</td>\n",
              "      <td>0</td>\n",
              "      <td>3</td>\n",
              "      <td>0</td>\n",
              "      <td>0.000000</td>\n",
              "    </tr>\n",
              "    <tr>\n",
              "      <th>8</th>\n",
              "      <td>0</td>\n",
              "      <td>0.754464</td>\n",
              "      <td>39</td>\n",
              "      <td>0</td>\n",
              "      <td>0.209940</td>\n",
              "      <td>3500.000000</td>\n",
              "      <td>8</td>\n",
              "      <td>0</td>\n",
              "      <td>0</td>\n",
              "      <td>0</td>\n",
              "      <td>0.000000</td>\n",
              "    </tr>\n",
              "    <tr>\n",
              "      <th>9</th>\n",
              "      <td>0</td>\n",
              "      <td>0.116951</td>\n",
              "      <td>27</td>\n",
              "      <td>0</td>\n",
              "      <td>46.000000</td>\n",
              "      <td>6670.221237</td>\n",
              "      <td>2</td>\n",
              "      <td>0</td>\n",
              "      <td>0</td>\n",
              "      <td>0</td>\n",
              "      <td>0.757222</td>\n",
              "    </tr>\n",
              "    <tr>\n",
              "      <th>10</th>\n",
              "      <td>0</td>\n",
              "      <td>0.189169</td>\n",
              "      <td>57</td>\n",
              "      <td>0</td>\n",
              "      <td>0.606291</td>\n",
              "      <td>23684.000000</td>\n",
              "      <td>9</td>\n",
              "      <td>0</td>\n",
              "      <td>4</td>\n",
              "      <td>0</td>\n",
              "      <td>2.000000</td>\n",
              "    </tr>\n",
              "    <tr>\n",
              "      <th>11</th>\n",
              "      <td>0</td>\n",
              "      <td>0.644226</td>\n",
              "      <td>30</td>\n",
              "      <td>0</td>\n",
              "      <td>0.309476</td>\n",
              "      <td>2500.000000</td>\n",
              "      <td>5</td>\n",
              "      <td>0</td>\n",
              "      <td>0</td>\n",
              "      <td>0</td>\n",
              "      <td>0.000000</td>\n",
              "    </tr>\n",
              "    <tr>\n",
              "      <th>12</th>\n",
              "      <td>0</td>\n",
              "      <td>0.018798</td>\n",
              "      <td>51</td>\n",
              "      <td>0</td>\n",
              "      <td>0.531529</td>\n",
              "      <td>6501.000000</td>\n",
              "      <td>7</td>\n",
              "      <td>0</td>\n",
              "      <td>2</td>\n",
              "      <td>0</td>\n",
              "      <td>2.000000</td>\n",
              "    </tr>\n",
              "    <tr>\n",
              "      <th>13</th>\n",
              "      <td>0</td>\n",
              "      <td>0.010352</td>\n",
              "      <td>46</td>\n",
              "      <td>0</td>\n",
              "      <td>0.298354</td>\n",
              "      <td>12454.000000</td>\n",
              "      <td>13</td>\n",
              "      <td>0</td>\n",
              "      <td>2</td>\n",
              "      <td>0</td>\n",
              "      <td>2.000000</td>\n",
              "    </tr>\n",
              "    <tr>\n",
              "      <th>14</th>\n",
              "      <td>1</td>\n",
              "      <td>0.964673</td>\n",
              "      <td>40</td>\n",
              "      <td>3</td>\n",
              "      <td>0.382965</td>\n",
              "      <td>13700.000000</td>\n",
              "      <td>9</td>\n",
              "      <td>3</td>\n",
              "      <td>1</td>\n",
              "      <td>1</td>\n",
              "      <td>2.000000</td>\n",
              "    </tr>\n",
              "    <tr>\n",
              "      <th>15</th>\n",
              "      <td>0</td>\n",
              "      <td>0.019657</td>\n",
              "      <td>76</td>\n",
              "      <td>0</td>\n",
              "      <td>477.000000</td>\n",
              "      <td>0.000000</td>\n",
              "      <td>6</td>\n",
              "      <td>0</td>\n",
              "      <td>1</td>\n",
              "      <td>0</td>\n",
              "      <td>0.000000</td>\n",
              "    </tr>\n",
              "  </tbody>\n",
              "</table>\n",
              "</div>"
            ],
            "text/plain": [
              "    SeriousDlqin2yrs  RevolvingUtilizationOfUnsecuredLines  age  \\\n",
              "1                  1                              0.766127   45   \n",
              "2                  0                              0.957151   40   \n",
              "3                  0                              0.658180   38   \n",
              "4                  0                              0.233810   30   \n",
              "5                  0                              0.907239   49   \n",
              "6                  0                              0.213179   74   \n",
              "7                  0                              0.305682   57   \n",
              "8                  0                              0.754464   39   \n",
              "9                  0                              0.116951   27   \n",
              "10                 0                              0.189169   57   \n",
              "11                 0                              0.644226   30   \n",
              "12                 0                              0.018798   51   \n",
              "13                 0                              0.010352   46   \n",
              "14                 1                              0.964673   40   \n",
              "15                 0                              0.019657   76   \n",
              "\n",
              "    NumberOfTime30-59DaysPastDueNotWorse    DebtRatio  MonthlyIncome  \\\n",
              "1                                      2     0.802982    9120.000000   \n",
              "2                                      0     0.121876    2600.000000   \n",
              "3                                      1     0.085113    3042.000000   \n",
              "4                                      0     0.036050    3300.000000   \n",
              "5                                      1     0.024926   63588.000000   \n",
              "6                                      0     0.375607    3500.000000   \n",
              "7                                      0  5710.000000    6670.221237   \n",
              "8                                      0     0.209940    3500.000000   \n",
              "9                                      0    46.000000    6670.221237   \n",
              "10                                     0     0.606291   23684.000000   \n",
              "11                                     0     0.309476    2500.000000   \n",
              "12                                     0     0.531529    6501.000000   \n",
              "13                                     0     0.298354   12454.000000   \n",
              "14                                     3     0.382965   13700.000000   \n",
              "15                                     0   477.000000       0.000000   \n",
              "\n",
              "    NumberOfOpenCreditLinesAndLoans  NumberOfTimes90DaysLate  \\\n",
              "1                                13                        0   \n",
              "2                                 4                        0   \n",
              "3                                 2                        1   \n",
              "4                                 5                        0   \n",
              "5                                 7                        0   \n",
              "6                                 3                        0   \n",
              "7                                 8                        0   \n",
              "8                                 8                        0   \n",
              "9                                 2                        0   \n",
              "10                                9                        0   \n",
              "11                                5                        0   \n",
              "12                                7                        0   \n",
              "13                               13                        0   \n",
              "14                                9                        3   \n",
              "15                                6                        0   \n",
              "\n",
              "    NumberRealEstateLoansOrLines  NumberOfTime60-89DaysPastDueNotWorse  \\\n",
              "1                              6                                     0   \n",
              "2                              0                                     0   \n",
              "3                              0                                     0   \n",
              "4                              0                                     0   \n",
              "5                              1                                     0   \n",
              "6                              1                                     0   \n",
              "7                              3                                     0   \n",
              "8                              0                                     0   \n",
              "9                              0                                     0   \n",
              "10                             4                                     0   \n",
              "11                             0                                     0   \n",
              "12                             2                                     0   \n",
              "13                             2                                     0   \n",
              "14                             1                                     1   \n",
              "15                             1                                     0   \n",
              "\n",
              "    NumberOfDependents  \n",
              "1             2.000000  \n",
              "2             1.000000  \n",
              "3             0.000000  \n",
              "4             0.000000  \n",
              "5             0.000000  \n",
              "6             1.000000  \n",
              "7             0.000000  \n",
              "8             0.000000  \n",
              "9             0.757222  \n",
              "10            2.000000  \n",
              "11            0.000000  \n",
              "12            2.000000  \n",
              "13            2.000000  \n",
              "14            2.000000  \n",
              "15            0.000000  "
            ]
          },
          "metadata": {
            "tags": []
          },
          "execution_count": 367
        }
      ]
    },
    {
      "cell_type": "markdown",
      "metadata": {
        "id": "P7wz_c0bDNSY"
      },
      "source": [
        "### Intuition based Features description"
      ]
    },
    {
      "cell_type": "markdown",
      "metadata": {
        "id": "sK7RaJmaDNSY"
      },
      "source": [
        "SeriousDlqin2yrs -> Person experienced 90 days past due delinquency or worse\n",
        "\n",
        "This is the target variable in which we are interested. This variable is influenced by the other independent variables as defined below.\n",
        "\n",
        "RevolvingUtilizationOfUnsecuredLines -> Total balance on credit cards and personal lines of credit except real estate and no installment debt like car loans divided by the sum of credit limits.\n",
        "\n",
        "This is an important feature as the probability of default is high when there is a pattern in which high spending within available credit limits. This might lead to increased number of days to return the borrowed debt.\n",
        "\n",
        "\n",
        "age ->\tAge of borrower in years\n",
        "\n",
        "This feature is less important in comparison to other given features. Age of the customer is less likely influence as the financial indicators of the customer influences the ability to return the borrowed capital. \n",
        "\n",
        "This is in contradiction to the importance of this feature described with the help of tree based features selection.\n",
        "\n",
        "NumberOfTime30-59DaysPastDueNotWorse -> Number of times borrower has been 30-59 days past due but no worse in the last 2 years.\n",
        "\n",
        "This is one of the important feature as the customer who paid the dues past the due date is more likely to do the same again if there is no change in his income (Increase in the salary, other income).\n",
        "\n",
        "DebtRatio -> Monthly debt payments, alimony,living costs divided by monthy gross income\n",
        "\n",
        "This feature is one of the important features which provides an indication about what the customer has been capable of borrowing and how he manages the current debt with the income. In this case, we can be able to infer how this feature had influenced the Customer to be 'worse'.\n",
        "\n",
        "MonthlyIncome -> Monthly income\n",
        "\n",
        "Even though this is an important feature,  this does not provide any direct indication about whether a customer will pay the credit soon or later. It also means, the ability to pay back within the due date is irrespective of the income a customer receives but more dependent upon how he/she manages the debt. \n",
        "\n",
        "However, as we had seen above, based upon the tree based features selection criteria, the Monthly income comes with high importance. So this feature was not intended to be removed.\n",
        "\n",
        "NumberOfOpenCreditLinesAndLoans -> Number of Open loans (installment like car loan or mortgage) and Lines of credit (e.g. credit cards)\n",
        "\n",
        "This feature has less influence on the target variable as long as the customer maintains the number of credit lines and open loans in line with the income. \n",
        "\n",
        "NumberOfTimes90DaysLate -> Number of times borrower has been 90 days or more past due.\n",
        "\n",
        "NumberRealEstateLoansOrLines -> Number of mortgage and real estate loans including home equity lines of credit.\n",
        "\n",
        "NumberOfTime60-89DaysPastDueNotWorse -> Number of times borrower has been 60-89 days past due but no worse in the last 2 years.\n",
        "\n",
        "NumberOfDependents -> Number of dependents in family excluding themselves (spouse, children etc.)\n"
      ]
    },
    {
      "cell_type": "markdown",
      "metadata": {
        "id": "DI_tletLDNSY"
      },
      "source": [
        "#### Categorical Value Analysis"
      ]
    },
    {
      "cell_type": "markdown",
      "metadata": {
        "id": "ndDVlMIuDNSY"
      },
      "source": [
        "There are no categorical variables."
      ]
    },
    {
      "cell_type": "markdown",
      "metadata": {
        "id": "aa8AUbuxDNSY"
      },
      "source": [
        "### Feature Engineering"
      ]
    },
    {
      "cell_type": "markdown",
      "metadata": {
        "id": "Db_yUgXwDNSY"
      },
      "source": [
        "Monthly income and debt ratio are combined "
      ]
    },
    {
      "cell_type": "markdown",
      "metadata": {
        "id": "wkjR_CRADNSY"
      },
      "source": [
        "Trying to combine some columns to create a new column and drop the old columns. A debt to income ratio is a calculation that shows how much of your monthly income goes towards debt payments. debt to income ratio is one of the most important factors for getting approved for a loan. Debt Ratio multiplied by Monthly Income gives us Monthly Debt."
      ]
    },
    {
      "cell_type": "code",
      "metadata": {
        "id": "MMX40Nw8DNSY"
      },
      "source": [
        "train_df['DE_MO'] = train_df.MonthlyIncome * train_df.DebtRatio"
      ],
      "execution_count": null,
      "outputs": []
    },
    {
      "cell_type": "code",
      "metadata": {
        "id": "th6vj537DNSY",
        "outputId": "47ea09ae-d3b7-4887-c717-c7af0cbe842e"
      },
      "source": [
        "train_df = train_df.drop('MonthlyIncome', axis=1)\n",
        "train_df = train_df.drop('DebtRatio', axis=1)\n",
        "train_df.head()"
      ],
      "execution_count": null,
      "outputs": [
        {
          "output_type": "execute_result",
          "data": {
            "text/html": [
              "<div>\n",
              "<style scoped>\n",
              "    .dataframe tbody tr th:only-of-type {\n",
              "        vertical-align: middle;\n",
              "    }\n",
              "\n",
              "    .dataframe tbody tr th {\n",
              "        vertical-align: top;\n",
              "    }\n",
              "\n",
              "    .dataframe thead th {\n",
              "        text-align: right;\n",
              "    }\n",
              "</style>\n",
              "<table border=\"1\" class=\"dataframe\">\n",
              "  <thead>\n",
              "    <tr style=\"text-align: right;\">\n",
              "      <th></th>\n",
              "      <th>SeriousDlqin2yrs</th>\n",
              "      <th>RevolvingUtilizationOfUnsecuredLines</th>\n",
              "      <th>age</th>\n",
              "      <th>NumberOfTime30-59DaysPastDueNotWorse</th>\n",
              "      <th>NumberOfOpenCreditLinesAndLoans</th>\n",
              "      <th>NumberOfTimes90DaysLate</th>\n",
              "      <th>NumberRealEstateLoansOrLines</th>\n",
              "      <th>NumberOfTime60-89DaysPastDueNotWorse</th>\n",
              "      <th>NumberOfDependents</th>\n",
              "      <th>DE_MO</th>\n",
              "    </tr>\n",
              "  </thead>\n",
              "  <tbody>\n",
              "    <tr>\n",
              "      <th>1</th>\n",
              "      <td>1</td>\n",
              "      <td>0.766127</td>\n",
              "      <td>45</td>\n",
              "      <td>2</td>\n",
              "      <td>13</td>\n",
              "      <td>0</td>\n",
              "      <td>6</td>\n",
              "      <td>0</td>\n",
              "      <td>2.0</td>\n",
              "      <td>7323.197016</td>\n",
              "    </tr>\n",
              "    <tr>\n",
              "      <th>2</th>\n",
              "      <td>0</td>\n",
              "      <td>0.957151</td>\n",
              "      <td>40</td>\n",
              "      <td>0</td>\n",
              "      <td>4</td>\n",
              "      <td>0</td>\n",
              "      <td>0</td>\n",
              "      <td>0</td>\n",
              "      <td>1.0</td>\n",
              "      <td>316.878123</td>\n",
              "    </tr>\n",
              "    <tr>\n",
              "      <th>3</th>\n",
              "      <td>0</td>\n",
              "      <td>0.658180</td>\n",
              "      <td>38</td>\n",
              "      <td>1</td>\n",
              "      <td>2</td>\n",
              "      <td>1</td>\n",
              "      <td>0</td>\n",
              "      <td>0</td>\n",
              "      <td>0.0</td>\n",
              "      <td>258.914887</td>\n",
              "    </tr>\n",
              "    <tr>\n",
              "      <th>4</th>\n",
              "      <td>0</td>\n",
              "      <td>0.233810</td>\n",
              "      <td>30</td>\n",
              "      <td>0</td>\n",
              "      <td>5</td>\n",
              "      <td>0</td>\n",
              "      <td>0</td>\n",
              "      <td>0</td>\n",
              "      <td>0.0</td>\n",
              "      <td>118.963951</td>\n",
              "    </tr>\n",
              "    <tr>\n",
              "      <th>5</th>\n",
              "      <td>0</td>\n",
              "      <td>0.907239</td>\n",
              "      <td>49</td>\n",
              "      <td>1</td>\n",
              "      <td>7</td>\n",
              "      <td>0</td>\n",
              "      <td>1</td>\n",
              "      <td>0</td>\n",
              "      <td>0.0</td>\n",
              "      <td>1584.975094</td>\n",
              "    </tr>\n",
              "  </tbody>\n",
              "</table>\n",
              "</div>"
            ],
            "text/plain": [
              "   SeriousDlqin2yrs  RevolvingUtilizationOfUnsecuredLines  age  \\\n",
              "1                 1                              0.766127   45   \n",
              "2                 0                              0.957151   40   \n",
              "3                 0                              0.658180   38   \n",
              "4                 0                              0.233810   30   \n",
              "5                 0                              0.907239   49   \n",
              "\n",
              "   NumberOfTime30-59DaysPastDueNotWorse  NumberOfOpenCreditLinesAndLoans  \\\n",
              "1                                     2                               13   \n",
              "2                                     0                                4   \n",
              "3                                     1                                2   \n",
              "4                                     0                                5   \n",
              "5                                     1                                7   \n",
              "\n",
              "   NumberOfTimes90DaysLate  NumberRealEstateLoansOrLines  \\\n",
              "1                        0                             6   \n",
              "2                        0                             0   \n",
              "3                        1                             0   \n",
              "4                        0                             0   \n",
              "5                        0                             1   \n",
              "\n",
              "   NumberOfTime60-89DaysPastDueNotWorse  NumberOfDependents        DE_MO  \n",
              "1                                     0                 2.0  7323.197016  \n",
              "2                                     0                 1.0   316.878123  \n",
              "3                                     0                 0.0   258.914887  \n",
              "4                                     0                 0.0   118.963951  \n",
              "5                                     0                 0.0  1584.975094  "
            ]
          },
          "metadata": {
            "tags": []
          },
          "execution_count": 369
        }
      ]
    },
    {
      "cell_type": "code",
      "metadata": {
        "id": "fmqtuqEqDNSY",
        "outputId": "0d0afb83-6db7-4e61-dd62-5b6fd78fafa6"
      },
      "source": [
        "train_df.columns.values"
      ],
      "execution_count": null,
      "outputs": [
        {
          "output_type": "execute_result",
          "data": {
            "text/plain": [
              "array(['SeriousDlqin2yrs', 'RevolvingUtilizationOfUnsecuredLines', 'age',\n",
              "       'NumberOfTime30-59DaysPastDueNotWorse',\n",
              "       'NumberOfOpenCreditLinesAndLoans', 'NumberOfTimes90DaysLate',\n",
              "       'NumberRealEstateLoansOrLines',\n",
              "       'NumberOfTime60-89DaysPastDueNotWorse', 'NumberOfDependents',\n",
              "       'DE_MO'], dtype=object)"
            ]
          },
          "metadata": {
            "tags": []
          },
          "execution_count": 370
        }
      ]
    },
    {
      "cell_type": "markdown",
      "metadata": {
        "id": "s4shgW-8DNSY"
      },
      "source": [
        "#### Prepare the exploratory and target variable used for modelling "
      ]
    },
    {
      "cell_type": "code",
      "metadata": {
        "id": "aSrGse3JDNSY"
      },
      "source": [
        "y = train_df[\"SeriousDlqin2yrs\"]\n",
        "X = train_df.drop(\"SeriousDlqin2yrs\", axis=1)"
      ],
      "execution_count": null,
      "outputs": []
    },
    {
      "cell_type": "markdown",
      "metadata": {
        "id": "3ZbNN0GJDNSY"
      },
      "source": [
        "### Data Preprocessing Steps"
      ]
    },
    {
      "cell_type": "code",
      "metadata": {
        "id": "yxoeaIlFDNSY"
      },
      "source": [
        "# Handling missing variables by using Imputer Class\n",
        "from sklearn.preprocessing import Imputer\n",
        "imputer = Imputer(missing_values = 'NaN' , strategy = 'mean', axis = 0)\n",
        "imputer = imputer.fit(X)\n",
        "X= imputer.transform(X)"
      ],
      "execution_count": null,
      "outputs": []
    },
    {
      "cell_type": "markdown",
      "metadata": {
        "id": "ckhG_Q1BDNSY"
      },
      "source": [
        "#### Do a normal cross-validation on the given data to split up into train and test set"
      ]
    },
    {
      "cell_type": "code",
      "metadata": {
        "id": "FfptxYPhDNSY"
      },
      "source": [
        "#Cross validation on the given data to split the training and test set\n",
        "from sklearn import cross_validation\n",
        "from sklearn.cross_validation import train_test_split\n",
        "X_train,X_test,y_train,y_test = cross_validation.train_test_split(X, y, train_size=105000) #70% of the total customers\n",
        "test_pd = train_df[105000:] # Keeping the test data in a dataframe"
      ],
      "execution_count": null,
      "outputs": []
    },
    {
      "cell_type": "markdown",
      "metadata": {
        "id": "zu-zk-SQDNSY"
      },
      "source": [
        "#### I am defining the implementation as a trial and error because I will just throw everything I have in them and check the accuracy.My hope is to see significant improvements once that I will engineer some features. This is a classification problem and this means that we can use the following algorithms:\n",
        "\n",
        "Logistic Regression\n",
        "\n",
        "Decision tree\n",
        "\n",
        "Random forest\n",
        "\n",
        "Gaussian Naive Bayes\n",
        "\n",
        "K-Nearest Neigbors\n",
        "\n",
        "#### Below blocks will try to fit a model by different learning models and find the mean accuracy\n",
        "\n",
        "In multi-label classification, mean accuracy is the subset accuracy which is a harsh metric since we required for each sample."
      ]
    },
    {
      "cell_type": "code",
      "metadata": {
        "id": "e5G0ESRyDNSY",
        "outputId": "cb3724a7-fb92-459e-bb40-7ba7216b997b"
      },
      "source": [
        "# Random Forest in train data \n",
        "random_forest = RandomForestClassifier(n_estimators=100)\n",
        "random_forest.fit(X_train, y_train)\n",
        "acc_random_forest = round(random_forest.score(X_train, y_train) * 100, 2)\n",
        "print(\"Mean Accuracy for Random Forest in train data: \",round(acc_random_forest,2), \"%\")\n",
        "\n",
        "# Logistic Regression\n",
        "logreg = LogisticRegression()\n",
        "logreg.fit(X_train, y_train)\n",
        "acc_log = round(logreg.score(X_train, y_train) * 100, 2)\n",
        "print(\"Mean Accuracy for Logistic Regression in train data: \",round(acc_log,2), \"%\")\n",
        "\n",
        "# Gaussian Naive Bayes\n",
        "gaussian = GaussianNB()\n",
        "gaussian.fit(X_train, y_train)\n",
        "acc_gaussian = round(gaussian.score(X_train, y_train) * 100, 2)\n",
        "print(\"Mean Accuracy for Gaussian Naive Bayes in train data: \",round(acc_gaussian,2), \"%\")\n",
        "\n",
        "#Decision Tree\n",
        "decision_tree = DecisionTreeClassifier()\n",
        "decision_tree.fit(X_train, y_train)\n",
        "acc_decision_tree = round(decision_tree.score(X_train, y_train) * 100, 2)\n",
        "print(\"Mean Accuracy for Decision Tree in train data: \",round(acc_decision_tree,2), \"%\")"
      ],
      "execution_count": null,
      "outputs": [
        {
          "output_type": "stream",
          "text": [
            "Mean Accuracy for Random Forest in train data:  99.91 %\n",
            "Mean Accuracy for Logistic Regression in train data:  93.38 %\n",
            "Mean Accuracy for Gaussian Naive Bayes in train data:  93.38 %\n",
            "Mean Accuracy for Decision Tree in train data:  99.91 %\n"
          ],
          "name": "stdout"
        }
      ]
    },
    {
      "cell_type": "markdown",
      "metadata": {
        "id": "nkamD929DNSY"
      },
      "source": [
        "#### Below table show which is the best model in Training data w.r.t mean accuracy for train data"
      ]
    },
    {
      "cell_type": "code",
      "metadata": {
        "id": "cxfO2Py8DNSY",
        "outputId": "1abbfa0c-b91d-4ccb-ab49-c9716594febd"
      },
      "source": [
        "import seaborn as sns\n",
        "results = pd.DataFrame({\n",
        "    'Model': [ 'Logistic Regression', \n",
        "              'Random Forest', 'Naive Bayes',  \n",
        "              'Decision Tree'],\n",
        "    'Score': [acc_log, acc_random_forest, acc_gaussian, acc_decision_tree]})\n",
        "result_df = results.sort_values(by='Score', ascending=False)\n",
        "result_df = result_df.set_index('Score')\n",
        "result_df.head(9)"
      ],
      "execution_count": null,
      "outputs": [
        {
          "output_type": "execute_result",
          "data": {
            "text/html": [
              "<div>\n",
              "<style scoped>\n",
              "    .dataframe tbody tr th:only-of-type {\n",
              "        vertical-align: middle;\n",
              "    }\n",
              "\n",
              "    .dataframe tbody tr th {\n",
              "        vertical-align: top;\n",
              "    }\n",
              "\n",
              "    .dataframe thead th {\n",
              "        text-align: right;\n",
              "    }\n",
              "</style>\n",
              "<table border=\"1\" class=\"dataframe\">\n",
              "  <thead>\n",
              "    <tr style=\"text-align: right;\">\n",
              "      <th></th>\n",
              "      <th>Model</th>\n",
              "    </tr>\n",
              "    <tr>\n",
              "      <th>Score</th>\n",
              "      <th></th>\n",
              "    </tr>\n",
              "  </thead>\n",
              "  <tbody>\n",
              "    <tr>\n",
              "      <th>99.91</th>\n",
              "      <td>Random Forest</td>\n",
              "    </tr>\n",
              "    <tr>\n",
              "      <th>99.91</th>\n",
              "      <td>Decision Tree</td>\n",
              "    </tr>\n",
              "    <tr>\n",
              "      <th>93.38</th>\n",
              "      <td>Logistic Regression</td>\n",
              "    </tr>\n",
              "    <tr>\n",
              "      <th>93.38</th>\n",
              "      <td>Naive Bayes</td>\n",
              "    </tr>\n",
              "  </tbody>\n",
              "</table>\n",
              "</div>"
            ],
            "text/plain": [
              "                     Model\n",
              "Score                     \n",
              "99.91        Random Forest\n",
              "99.91        Decision Tree\n",
              "93.38  Logistic Regression\n",
              "93.38          Naive Bayes"
            ]
          },
          "metadata": {
            "tags": []
          },
          "execution_count": 375
        }
      ]
    },
    {
      "cell_type": "markdown",
      "metadata": {
        "id": "OgMYee_EDNSY"
      },
      "source": [
        "#### From above table Random Forest and Decision Tree give good mean accuracy for the data, So will try to find the F1 score for both."
      ]
    },
    {
      "cell_type": "markdown",
      "metadata": {
        "id": "XZ60YX9fDNSY"
      },
      "source": [
        "#### Decision tree\n",
        "\n",
        "The Tree is very easy to use and imagine, it can handle both numerical and categorical variables, but it is easy to fall into the trap of overfitting (i.e. creating a very complex model that perfectly describes your training set but fails in predicting). It is also said to be senstive to small changes in the data, leading to different results. For this reason, it is common to use ensembles such as Random Forest to avoid this risk.\n",
        "\n",
        "#### Random Forest \n",
        "\n",
        "Random Forests grows many classification trees. To classify a new object from an input vector, put the input vector down each of the trees in the forest. Each tree gives a classification, The forest chooses the classification having the most votes (over all the trees in the forest).Random forests corrects for decision trees' habit of overfitting to their training set.\n",
        "\n",
        "There are a few parameters to be settle for the classifier, such as the function to determine the quality of a split, or how deep the tree has to be. We will first test it with a random choice of those parameters and then see a better process."
      ]
    },
    {
      "cell_type": "markdown",
      "metadata": {
        "id": "vXeSRx35DNSY"
      },
      "source": [
        " ## Evaluation - Calculate F1 Score on Decession Tree and Random Forest"
      ]
    },
    {
      "cell_type": "code",
      "metadata": {
        "id": "Ah-WOsInDNSY",
        "outputId": "78abdf47-ce60-439b-a2e9-4511a40c3e4e"
      },
      "source": [
        "import time\n",
        "from sklearn.metrics import f1_score\n",
        "from sklearn.metrics import roc_auc_score\n",
        "def predict_labels(fit_object, X, y):\n",
        "     print (\"Predicting labels using {}...\".format(fit_object.__class__.__name__))\n",
        "     start = time.time()\n",
        "     y_pred = fit_object.predict(X)\n",
        "     end = time.time()\n",
        "     print (\"Done!\\nPrediction time (secs): {:.3f}\".format(end - start))\n",
        "     return f1_score(y, y_pred, pos_label=1)\n",
        "\n",
        "f_one_score_train_dt = predict_labels(decision_tree, X_train, y_train)\n",
        "f_one_score_test_dt = predict_labels(decision_tree, X_test, y_test)\n",
        "y_pred_test_d = decision_tree.predict(X_test)\n",
        "y_pred_train_d = decision_tree.predict(X_train)\n",
        "r_a_score_decision_tree_test = roc_auc_score(y_test, y_pred_test_d)\n",
        "r_a_score_decision_tree_train = roc_auc_score(y_train, y_pred_train_d)\n",
        "print (\"F1 score for training set with Decession Tree Classifier: {}\".format(f_one_score_train_dt))\n",
        "print (\"F1 score for test set with Decession Tree Classifier: {}\".format(f_one_score_test_dt))\n",
        "print (\"ROC-AUC score for training set with decision tree Classifier: {}\".format(r_a_score_decision_tree_train))\n",
        "print (\"ROC-AUC score for test set with decision tree Classifier: {}\".format(r_a_score_decision_tree_test))\n",
        "\n",
        "f_one_score_train_rf = predict_labels(random_forest, X_train, y_train)\n",
        "f_one_score_test_rf = predict_labels(random_forest, X_test, y_test)\n",
        "y_pred_train_r = random_forest.predict(X_train)\n",
        "y_pred_test_r = random_forest.predict(X_test)\n",
        "r_a_score_random_forest_train = roc_auc_score(y_train, y_pred_train_r)\n",
        "r_a_score_random_forest_test = roc_auc_score(y_test, y_pred_test_r)\n",
        "print (\"F1 score for training set with Random Forest Classifier: {}\".format(f_one_score_train_rf))\n",
        "print (\"F1 score for test set with Random Forest Classifier: {}\".format(f_one_score_test_rf))\n",
        "print (\"ROC-AUC score for training set with Random Forest Classifier: {}\".format(r_a_score_random_forest_train))\n",
        "print (\"ROC-AUC score for test set with Random Forest Classifier: {}\".format(r_a_score_random_forest_test))"
      ],
      "execution_count": null,
      "outputs": [
        {
          "output_type": "stream",
          "text": [
            "Predicting labels using DecisionTreeClassifier...\n",
            "Done!\n",
            "Prediction time (secs): 0.037\n",
            "Predicting labels using DecisionTreeClassifier...\n",
            "Done!\n",
            "Prediction time (secs): 0.011\n",
            "F1 score for training set with Decession Tree Classifier: 0.9934215282295958\n",
            "F1 score for test set with Decession Tree Classifier: 0.2533015115354017\n",
            "ROC-AUC score for training set with decision tree Classifier: 0.9940573684219643\n",
            "ROC-AUC score for test set with decision tree Classifier: 0.600703149061145\n",
            "Predicting labels using RandomForestClassifier...\n",
            "Done!\n",
            "Prediction time (secs): 2.431\n",
            "Predicting labels using RandomForestClassifier...\n",
            "Done!\n",
            "Prediction time (secs): 1.020\n",
            "F1 score for training set with Random Forest Classifier: 0.9928473376201141\n",
            "F1 score for test set with Random Forest Classifier: 0.290468267173758\n",
            "ROC-AUC score for training set with Random Forest Classifier: 0.9940165716612271\n",
            "ROC-AUC score for test set with Random Forest Classifier: 0.5931772221426714\n"
          ],
          "name": "stdout"
        }
      ]
    },
    {
      "cell_type": "markdown",
      "metadata": {
        "id": "9lc8XvN_DNSY"
      },
      "source": [
        "#### Finding the results running on diffrerent models we can find some overfitting,  we can try a ensembling method to check more accuracy."
      ]
    },
    {
      "cell_type": "markdown",
      "metadata": {
        "id": "O3brXd2FDNSZ"
      },
      "source": [
        "#### AdaBoostClassifier"
      ]
    },
    {
      "cell_type": "code",
      "metadata": {
        "id": "wNreDeSEDNSZ",
        "outputId": "bd4df4f7-8ef1-40c7-b9d2-2aac4c930f0a"
      },
      "source": [
        "from sklearn.ensemble import AdaBoostClassifier\n",
        "ada_boost_clf = AdaBoostClassifier(n_estimators=100)\n",
        "ada_boost_clf.fit(X_train,y_train)\n",
        "f_one_score_train_rf = predict_labels(ada_boost_clf, X_train, y_train)\n",
        "\n",
        "f_one_score_test_rf = predict_labels(ada_boost_clf, X_test, y_test)\n",
        "\n",
        "# Predict on test data\n",
        "print (\"F1 score for training set with Ada Boost Classifier: {}\".format(f_one_score_train_rf))\n",
        "# Predict on test data\n",
        "print (\"F1 score for test set with Ada Boost Classifier: {}\".format(f_one_score_test_rf))\n",
        "y_predctn = ada_boost_clf.predict(X_test)\n",
        "r_a_score = roc_auc_score(y_test, y_predctn)\n",
        "print(\"ROC-AUC-Score ADA Boost:\", r_a_score)"
      ],
      "execution_count": null,
      "outputs": [
        {
          "output_type": "stream",
          "text": [
            "Predicting labels using AdaBoostClassifier...\n",
            "Done!\n",
            "Prediction time (secs): 2.215\n",
            "Predicting labels using AdaBoostClassifier...\n",
            "Done!\n",
            "Prediction time (secs): 0.821\n",
            "F1 score for training set with Ada Boost Classifier: 0.30667506297229224\n",
            "F1 score for test set with Ada Boost Classifier: 0.2958523135938624\n",
            "ROC-AUC-Score ADA Boost: 0.5946543374154158\n"
          ],
          "name": "stdout"
        }
      ]
    },
    {
      "cell_type": "markdown",
      "metadata": {
        "id": "iOj2IUGdDNSZ"
      },
      "source": [
        "Above code snippet with AdaBoostClassifier does not gave a good accuracy score since its less than 50% we can try some other ensemble method also"
      ]
    },
    {
      "cell_type": "markdown",
      "metadata": {
        "id": "2J1HELl7DNSZ"
      },
      "source": [
        "#### Trying another ensemble method GradientBoostingClassifier and compare the accuracy value for F1 score, ROC_AUC score"
      ]
    },
    {
      "cell_type": "code",
      "metadata": {
        "id": "tB3IInF5DNSZ",
        "outputId": "ffae433e-f800-440c-9c71-4c779ad5ea70"
      },
      "source": [
        "from sklearn.ensemble import GradientBoostingClassifier\n",
        "\n",
        "gb_clf = GradientBoostingClassifier(n_estimators=100, learning_rate=1.0, max_depth=1, random_state=0).fit(X_train, y_train)\n",
        "f_one_score_train_rf = predict_labels(gb_clf, X_train, y_train)\n",
        "\n",
        "f_one_score_test_rf = predict_labels(gb_clf, X_test, y_test)\n",
        "\n",
        "# Display F1 score value  for GradientBoostingClassifier\n",
        "print (\"F1 score for training set with Gradient Boosting Classifier: {}\".format(f_one_score_train_rf))\n",
        "# Predict on test data\n",
        "print (\"F1 score for test set with Gradient Boosting Classifier: {}\".format(f_one_score_test_rf))\n",
        "\n",
        "# Display the roc_auc_score for GradientBoostingClassifier\n",
        "y_predctn = gb_clf.predict(X_test)\n",
        "r_a_score = roc_auc_score(y_test, y_predctn)\n",
        "print(\"ROC-AUC-Score gb_clf:\", r_a_score)"
      ],
      "execution_count": null,
      "outputs": [
        {
          "output_type": "stream",
          "text": [
            "Predicting labels using GradientBoostingClassifier...\n",
            "Done!\n",
            "Prediction time (secs): 0.073\n",
            "Predicting labels using GradientBoostingClassifier...\n",
            "Done!\n",
            "Prediction time (secs): 0.029\n",
            "F1 score for training set with Gradient Boosting Classifier: 0.3785050378817464\n",
            "F1 score for test set with Gradient Boosting Classifier: 0.3772702751303722\n",
            "ROC-AUC-Score gb_clf: 0.653519337699369\n"
          ],
          "name": "stdout"
        }
      ]
    },
    {
      "cell_type": "markdown",
      "metadata": {
        "id": "8JjaSr_WDNSZ"
      },
      "source": [
        "#### Further Evaluation"
      ]
    },
    {
      "cell_type": "markdown",
      "metadata": {
        "id": "RFS2ruOGDNSZ"
      },
      "source": [
        "Since F1 score for both train and test in Random Forest and Decision Tree seems to be almost same, ROC-AUC score in decision tree is slightly good compared to RandomForest. Still decisoin tree is having a high chance of overfitting in real time data prediction, I planned for a further evaluation technique K-Fold cross-validation. \n",
        "\n",
        "Check major accuracy technique K-Fold for Random Forest and Decision Tree in test data  and train data"
      ]
    },
    {
      "cell_type": "code",
      "metadata": {
        "id": "ReyEP7n3DNSZ",
        "outputId": "15cd1f59-1daa-4227-e8bd-3122a4ba833e"
      },
      "source": [
        "# Implement K-Fold cross validation for Random Classifier and Decision Tree\n",
        "from sklearn.model_selection import KFold\n",
        "from sklearn.metrics import accuracy_score\n",
        "from sklearn.ensemble import RandomForestClassifier\n",
        "\n",
        "train1=train_df.drop('SeriousDlqin2yrs', axis = 1)\n",
        "labels=train_df['SeriousDlqin2yrs']\n",
        "kf=KFold(n_splits=10, shuffle=True, random_state=False)\n",
        "\n",
        "for train_id, test_id in kf.split(train1,labels):\n",
        "    XX_train, XX_test = train1.values[train_id], train1.values[test_id]\n",
        "    yy_train, yy_test = labels.values[train_id], labels.values[test_id]\n",
        "    random_forest.fit(XX_train,yy_train)\n",
        "\n",
        "predictions_random_forest = random_forest.predict(X_test)\n",
        "accuracy = accuracy_score(y_test, predictions_random_forest)\n",
        "f_one_score_test_rf = predict_labels(random_forest, X_test, predictions_random_forest)\n",
        "print(\"K - Fold validation score for Random Forest : \",accuracy)\n",
        "print(\"K - Fold F1 score for Random Forest : \",f_one_score_test_rf)\n",
        "\n",
        "kf=KFold(n_splits=10, shuffle=True, random_state=False)\n",
        "for train_id, test_id in kf.split(train1,labels):\n",
        "    XXX_train, XXX_test = train1.values[train_id], train1.values[test_id]\n",
        "    yyy_train, yyy_test = labels.values[train_id], labels.values[test_id]\n",
        "    decision_tree.fit(XXX_train,yyy_train)\n",
        "    \n",
        "predictions_decision_tree = decision_tree.predict(X_test)\n",
        "f_one_score_test_dt = predict_labels(decision_tree, X_test, predictions_decision_tree)\n",
        "accuracy = accuracy_score(y_test, predictions_decision_tree)\n",
        "print(\"K - Fold validation score for Decision Tree : \",accuracy)\n",
        "print(\"K - Fold F1 score for Decision Tree : \",f_one_score_test_dt)"
      ],
      "execution_count": null,
      "outputs": [
        {
          "output_type": "stream",
          "text": [
            "Predicting labels using RandomForestClassifier...\n",
            "Done!\n",
            "Prediction time (secs): 1.084\n",
            "K - Fold validation score for Random Forest :  0.9918\n",
            "K - Fold F1 score for Random Forest :  1.0\n",
            "Predicting labels using DecisionTreeClassifier...\n",
            "Done!\n",
            "Prediction time (secs): 0.011\n",
            "K - Fold validation score for Decision Tree :  0.9885777777777778\n",
            "K - Fold F1 score for Decision Tree :  1.0\n"
          ],
          "name": "stdout"
        }
      ]
    },
    {
      "cell_type": "markdown",
      "metadata": {
        "id": "rFuTMFRuDNSZ"
      },
      "source": [
        "#### Stratified Cross Validation"
      ]
    },
    {
      "cell_type": "markdown",
      "metadata": {
        "id": "UHVWgJJCDNSZ"
      },
      "source": [
        "Above code snippet gave a good accuracy score to proceed with Random Forest model, Since F1 score in test is 1.0. Its the best to confirm and finalize the learning model to implement in real time data. Still the data set provided seems to be unbanlanced in nature we can consider a stratified K-Fold validation for some confirmation. "
      ]
    },
    {
      "cell_type": "code",
      "metadata": {
        "id": "Vu1JGSGcDNSZ",
        "outputId": "ac574f15-44af-4f02-f8e6-607a40f71a2a"
      },
      "source": [
        "# Trying to do a stratified KFold cross-validation for more accuracy\n",
        "from sklearn.model_selection import StratifiedKFold\n",
        "skf = StratifiedKFold(n_splits=2)\n",
        "skf.get_n_splits(X, y)\n",
        "\n",
        "train1=train_df.drop('SeriousDlqin2yrs', axis = 1)\n",
        "labels=train_df['SeriousDlqin2yrs']\n",
        "\n",
        "for train_index, test_index in skf.split(train1, labels):\n",
        "    X_train_Strat, X_test_Strat = train1.values[train_index], train1.values[test_index]\n",
        "    y_train_Strat, y_test_Strat = labels.values[train_index], labels.values[test_index]\n",
        "\n",
        "f_one_score_train_rf = predict_labels(random_forest, X_train_Strat, y_train_Strat)\n",
        "f_one_score_test_rf = predict_labels(random_forest, X_test_Strat, y_test_Strat)\n",
        "y_pred_train_r = random_forest.predict(X_train_Strat)\n",
        "y_pred_test_r = random_forest.predict(X_test_Strat)\n",
        "r_a_score_random_forest_train = roc_auc_score(y_train_Strat, y_pred_train_r)\n",
        "r_a_score_random_forest_test = roc_auc_score(y_test_Strat, y_pred_test_r)\n",
        "print (\"F1 score for training set with Random Forest Classifier Stratified: {}\".format(f_one_score_train_rf))\n",
        "print (\"F1 score for test set with Random Forest Classifier Stratified Stratified: {}\".format(f_one_score_test_rf))\n",
        "print (\"ROC-AUC score for training set with Random Forest Classifier Stratified: {}\".format(r_a_score_random_forest_train))\n",
        "print (\"ROC-AUC score for test set with Random Forest Classifier Stratified: {}\".format(r_a_score_random_forest_test))"
      ],
      "execution_count": null,
      "outputs": [
        {
          "output_type": "stream",
          "text": [
            "Predicting labels using RandomForestClassifier...\n",
            "Done!\n",
            "Prediction time (secs): 1.809\n",
            "Predicting labels using RandomForestClassifier...\n",
            "Done!\n",
            "Prediction time (secs): 1.860\n",
            "F1 score for training set with Random Forest Classifier Stratified: 0.9370919266245207\n",
            "F1 score for test set with Random Forest Classifier Stratified Stratified: 0.9444903012794057\n",
            "ROC-AUC score for training set with Random Forest Classifier Stratified: 0.9501060071197116\n",
            "ROC-AUC score for test set with Random Forest Classifier Stratified: 0.9557843592684995\n"
          ],
          "name": "stdout"
        }
      ]
    },
    {
      "cell_type": "markdown",
      "metadata": {
        "id": "VF2_YUdVDNSZ"
      },
      "source": [
        "#### Conclusion\n",
        "Above results gave a good sign of consistenct figures in both train and test sets, we will confirm with Random Forest learning model. So i think these scores are good enough to finalize and submit the results"
      ]
    },
    {
      "cell_type": "markdown",
      "metadata": {
        "id": "H9TSL68pDNSZ"
      },
      "source": [
        "#### Confusion Matrix"
      ]
    },
    {
      "cell_type": "code",
      "metadata": {
        "id": "fRYan2JyDNSZ",
        "outputId": "3ef4be86-04c8-4d54-8876-cdcf7f4de9ba"
      },
      "source": [
        "from sklearn.metrics import confusion_matrix\n",
        "cm = confusion_matrix(y_test, predictions_random_forest)\n",
        "print(cm)"
      ],
      "execution_count": null,
      "outputs": [
        {
          "output_type": "stream",
          "text": [
            "[[41851    76]\n",
            " [  293  2780]]\n"
          ],
          "name": "stdout"
        }
      ]
    },
    {
      "cell_type": "markdown",
      "metadata": {
        "id": "5VRXhpGFDNSe"
      },
      "source": [
        "The first row is about the predicted class: 41870  customers were correctly classified as eligible to lend the loans (called true positives) and 69 where wrongly classified as not eligible (false Negatives).\n",
        "\n",
        "The second row is about the Actual Class: 284  passengers where wrongly classified as eligible (false positives) and 2777 where correctly classified as survived (true negatives).\n",
        "\n",
        "A confusion matrix gives you a lot of information about how well your model does, but theres a way to get even more, like computing the classifiers precision."
      ]
    },
    {
      "cell_type": "markdown",
      "metadata": {
        "id": "2zquEGI_DNSe"
      },
      "source": [
        "#### Precision and Recall:"
      ]
    },
    {
      "cell_type": "code",
      "metadata": {
        "id": "OHU5pXJxDNSe",
        "outputId": "5da53bfd-816d-4855-e88b-e779a962880d"
      },
      "source": [
        "from sklearn.metrics import precision_score, recall_score\n",
        "\n",
        "print(\"Precision:\", precision_score(y_test, predictions_random_forest))\n",
        "print(\"Recall:\",recall_score(y_test, predictions_random_forest))"
      ],
      "execution_count": null,
      "outputs": [
        {
          "output_type": "stream",
          "text": [
            "Precision: 0.9733893557422969\n",
            "Recall: 0.9046534331272372\n"
          ],
          "name": "stdout"
        }
      ]
    },
    {
      "cell_type": "markdown",
      "metadata": {
        "id": "t4ELgptDDNSf"
      },
      "source": [
        "Model predicts 97% of the customers are classified correctly (precision). The recall tells us that it predicted the 90 % of the customers who are already eligible."
      ]
    },
    {
      "cell_type": "code",
      "metadata": {
        "id": "o1AvMn1hDNSf",
        "outputId": "bdaa8d05-7eea-4cfe-9941-b6140fb4074f"
      },
      "source": [
        "#############################################################################################\n",
        "# Adding a new predicted classification coloumn to newly classified table\n",
        "test_pd['Eligible'] = predictions_random_forest\n",
        "test_pd = test_pd.drop(\"SeriousDlqin2yrs\", axis=1)\n",
        "test_pd = test_pd.loc[test_pd['Eligible'] == 1]"
      ],
      "execution_count": null,
      "outputs": [
        {
          "output_type": "stream",
          "text": [
            "c:\\users\\diyamol\\appdata\\local\\programs\\python\\python36-32\\lib\\site-packages\\ipykernel_launcher.py:3: SettingWithCopyWarning: \n",
            "A value is trying to be set on a copy of a slice from a DataFrame.\n",
            "Try using .loc[row_indexer,col_indexer] = value instead\n",
            "\n",
            "See the caveats in the documentation: http://pandas.pydata.org/pandas-docs/stable/indexing.html#indexing-view-versus-copy\n",
            "  This is separate from the ipykernel package so we can avoid doing imports until\n"
          ],
          "name": "stderr"
        }
      ]
    },
    {
      "cell_type": "markdown",
      "metadata": {
        "id": "9cCMykSMDNSf"
      },
      "source": [
        "# Predicted Result with other features"
      ]
    },
    {
      "cell_type": "code",
      "metadata": {
        "id": "RcJVu4UpDNSf",
        "outputId": "e15d29fe-95c6-4b74-92a5-2b533bf7c31a"
      },
      "source": [
        "test_pd.head()"
      ],
      "execution_count": null,
      "outputs": [
        {
          "output_type": "execute_result",
          "data": {
            "text/html": [
              "<div>\n",
              "<style scoped>\n",
              "    .dataframe tbody tr th:only-of-type {\n",
              "        vertical-align: middle;\n",
              "    }\n",
              "\n",
              "    .dataframe tbody tr th {\n",
              "        vertical-align: top;\n",
              "    }\n",
              "\n",
              "    .dataframe thead th {\n",
              "        text-align: right;\n",
              "    }\n",
              "</style>\n",
              "<table border=\"1\" class=\"dataframe\">\n",
              "  <thead>\n",
              "    <tr style=\"text-align: right;\">\n",
              "      <th></th>\n",
              "      <th>RevolvingUtilizationOfUnsecuredLines</th>\n",
              "      <th>age</th>\n",
              "      <th>NumberOfTime30-59DaysPastDueNotWorse</th>\n",
              "      <th>NumberOfOpenCreditLinesAndLoans</th>\n",
              "      <th>NumberOfTimes90DaysLate</th>\n",
              "      <th>NumberRealEstateLoansOrLines</th>\n",
              "      <th>NumberOfTime60-89DaysPastDueNotWorse</th>\n",
              "      <th>NumberOfDependents</th>\n",
              "      <th>DE_MO</th>\n",
              "      <th>Eligible</th>\n",
              "    </tr>\n",
              "  </thead>\n",
              "  <tbody>\n",
              "    <tr>\n",
              "      <th>105045</th>\n",
              "      <td>0.031533</td>\n",
              "      <td>74</td>\n",
              "      <td>0</td>\n",
              "      <td>4</td>\n",
              "      <td>0</td>\n",
              "      <td>0</td>\n",
              "      <td>0</td>\n",
              "      <td>0.757222</td>\n",
              "      <td>3.135004e+05</td>\n",
              "      <td>1</td>\n",
              "    </tr>\n",
              "    <tr>\n",
              "      <th>105047</th>\n",
              "      <td>0.888112</td>\n",
              "      <td>26</td>\n",
              "      <td>0</td>\n",
              "      <td>2</td>\n",
              "      <td>1</td>\n",
              "      <td>0</td>\n",
              "      <td>1</td>\n",
              "      <td>0.000000</td>\n",
              "      <td>4.018071e+02</td>\n",
              "      <td>1</td>\n",
              "    </tr>\n",
              "    <tr>\n",
              "      <th>105055</th>\n",
              "      <td>0.011380</td>\n",
              "      <td>79</td>\n",
              "      <td>0</td>\n",
              "      <td>13</td>\n",
              "      <td>0</td>\n",
              "      <td>2</td>\n",
              "      <td>0</td>\n",
              "      <td>0.000000</td>\n",
              "      <td>2.153669e+03</td>\n",
              "      <td>1</td>\n",
              "    </tr>\n",
              "    <tr>\n",
              "      <th>105061</th>\n",
              "      <td>0.860377</td>\n",
              "      <td>49</td>\n",
              "      <td>0</td>\n",
              "      <td>9</td>\n",
              "      <td>0</td>\n",
              "      <td>2</td>\n",
              "      <td>1</td>\n",
              "      <td>2.000000</td>\n",
              "      <td>1.732711e+03</td>\n",
              "      <td>1</td>\n",
              "    </tr>\n",
              "    <tr>\n",
              "      <th>105070</th>\n",
              "      <td>1.164939</td>\n",
              "      <td>31</td>\n",
              "      <td>0</td>\n",
              "      <td>6</td>\n",
              "      <td>0</td>\n",
              "      <td>0</td>\n",
              "      <td>0</td>\n",
              "      <td>0.000000</td>\n",
              "      <td>6.510136e+06</td>\n",
              "      <td>1</td>\n",
              "    </tr>\n",
              "  </tbody>\n",
              "</table>\n",
              "</div>"
            ],
            "text/plain": [
              "        RevolvingUtilizationOfUnsecuredLines  age  \\\n",
              "105045                              0.031533   74   \n",
              "105047                              0.888112   26   \n",
              "105055                              0.011380   79   \n",
              "105061                              0.860377   49   \n",
              "105070                              1.164939   31   \n",
              "\n",
              "        NumberOfTime30-59DaysPastDueNotWorse  NumberOfOpenCreditLinesAndLoans  \\\n",
              "105045                                     0                                4   \n",
              "105047                                     0                                2   \n",
              "105055                                     0                               13   \n",
              "105061                                     0                                9   \n",
              "105070                                     0                                6   \n",
              "\n",
              "        NumberOfTimes90DaysLate  NumberRealEstateLoansOrLines  \\\n",
              "105045                        0                             0   \n",
              "105047                        1                             0   \n",
              "105055                        0                             2   \n",
              "105061                        0                             2   \n",
              "105070                        0                             0   \n",
              "\n",
              "        NumberOfTime60-89DaysPastDueNotWorse  NumberOfDependents  \\\n",
              "105045                                     0            0.757222   \n",
              "105047                                     1            0.000000   \n",
              "105055                                     0            0.000000   \n",
              "105061                                     1            2.000000   \n",
              "105070                                     0            0.000000   \n",
              "\n",
              "               DE_MO  Eligible  \n",
              "105045  3.135004e+05         1  \n",
              "105047  4.018071e+02         1  \n",
              "105055  2.153669e+03         1  \n",
              "105061  1.732711e+03         1  \n",
              "105070  6.510136e+06         1  "
            ]
          },
          "metadata": {
            "tags": []
          },
          "execution_count": 396
        }
      ]
    },
    {
      "cell_type": "markdown",
      "metadata": {
        "id": "oMhBdA-ODNSf"
      },
      "source": [
        "Draw histogram to plot the predicted results of customers who are eligible for lending loans."
      ]
    },
    {
      "cell_type": "code",
      "metadata": {
        "id": "wPlZrlb8DNSf",
        "outputId": "6a4c05cc-ef2d-4a74-f096-484976580d3f"
      },
      "source": [
        "ax = sns.countplot(x = test_pd.Eligible ,palette=\"Set1\")\n",
        "sns.set(font_scale=1.5)\n",
        "sns.set(style=\"darkgrid\")\n",
        "ax.set_ylim(top = 150000)\n",
        "ax.set_xlabel(' ')\n",
        "ax.set_ylabel('Eligible')\n",
        "fig = plt.gcf()\n",
        "fig.set_size_inches(10,5)\n",
        "ax.set_ylim(top=50000)\n",
        "add_freq()\n",
        "plt.show()"
      ],
      "execution_count": null,
      "outputs": [
        {
          "output_type": "display_data",
          "data": {
            "image/png": "[encoded data removed]",
            "text/plain": [
              "<matplotlib.figure.Figure at 0x14b11350>"
            ]
          },
          "metadata": {
            "tags": []
          }
        }
      ]
    },
    {
      "cell_type": "markdown",
      "metadata": {
        "id": "Hnx7ApwaDNSf"
      },
      "source": [
        "#### Summary"
      ]
    },
    {
      "cell_type": "markdown",
      "metadata": {
        "id": "JmyztnIKDNSf"
      },
      "source": [
        "From the above plot we can see that 1.9% of customers out of 45000 are eligible for lending loans. More the number of historical data/features more improved prediction accuracy can be acheived with the implemented learning model. We can use this program/module as an API or integration tool for an enterprise application using a web service with proper testing.\n",
        "\n",
        "I started with the data exploration where I got a feeling for the dataset, checked about missing data and learned which features are important. During this process I used seaborn and matplotlib to do the visualizations. During the data preprocessing part, I computed missing values, and created new features. Afterwards I started training 4 to 5 different machine learning models, picked one of them (random forest) and applied K-Fold cross validation on it. In between I tried as well ensembling techniques. Of course there is still more for improvement, like doing a more extensive feature engineering, by comparing and plotting the features against each other for eg: pearson's correlation coefficient, identifying and removing the noisy features."
      ]
    }
  ]
}